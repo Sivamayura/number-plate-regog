{
 "cells": [
  {
   "cell_type": "code",
   "execution_count": 1,
   "id": "7583c625",
   "metadata": {},
   "outputs": [
    {
     "name": "stdout",
     "output_type": "stream",
     "text": [
      "Requirement already satisfied: torch in /opt/anaconda3/lib/python3.9/site-packages (2.2.2)\n",
      "Requirement already satisfied: torchvision in /opt/anaconda3/lib/python3.9/site-packages (0.17.2)\n",
      "Requirement already satisfied: torchaudio in /opt/anaconda3/lib/python3.9/site-packages (2.2.2)\n",
      "Requirement already satisfied: typing-extensions>=4.8.0 in /opt/anaconda3/lib/python3.9/site-packages (from torch) (4.11.0)\n",
      "Requirement already satisfied: sympy in /opt/anaconda3/lib/python3.9/site-packages (from torch) (1.10.1)\n",
      "Requirement already satisfied: filelock in /opt/anaconda3/lib/python3.9/site-packages (from torch) (3.6.0)\n",
      "Requirement already satisfied: fsspec in /opt/anaconda3/lib/python3.9/site-packages (from torch) (2022.2.0)\n",
      "Requirement already satisfied: jinja2 in /opt/anaconda3/lib/python3.9/site-packages (from torch) (2.11.3)\n",
      "Requirement already satisfied: networkx in /opt/anaconda3/lib/python3.9/site-packages (from torch) (2.7.1)\n",
      "Requirement already satisfied: numpy in /opt/anaconda3/lib/python3.9/site-packages (from torchvision) (1.21.5)\n",
      "Requirement already satisfied: pillow!=8.3.*,>=5.3.0 in /opt/anaconda3/lib/python3.9/site-packages (from torchvision) (10.3.0)\n",
      "Requirement already satisfied: MarkupSafe>=0.23 in /opt/anaconda3/lib/python3.9/site-packages (from jinja2->torch) (2.0.1)\n",
      "Requirement already satisfied: mpmath>=0.19 in /opt/anaconda3/lib/python3.9/site-packages (from sympy->torch) (1.2.1)\n",
      "zsh:1: command not found: torch\n"
     ]
    }
   ],
   "source": [
    "!pip install torch torchvision torchaudio\n",
    "!torch install easyocr"
   ]
  },
  {
   "cell_type": "code",
   "execution_count": 2,
   "id": "4d6b2f6a",
   "metadata": {},
   "outputs": [],
   "source": [
    "import easyocr"
   ]
  },
  {
   "cell_type": "code",
   "execution_count": 3,
   "id": "04202cd6",
   "metadata": {},
   "outputs": [
    {
     "name": "stdout",
     "output_type": "stream",
     "text": [
      "Detected Number Plate for scanned_image2.jpg: SPDSO\n",
      "Detected Number Plate for scanned_image3.jpg: R\n",
      "Detected Number Plate for scanned_image1.jpg: EOP.807\n",
      "Detected Number Plate for scanned_image0.jpg: EOP-807\n",
      "Detected Number Plate for scanned_image4.jpg: ra\n"
     ]
    }
   ],
   "source": [
    "import cv2\n",
    "import os\n",
    "import pandas as pd\n",
    "\n",
    "from matplotlib import pyplot as plt\n",
    "\n",
    "# Initialize the camera\n",
    "cam = cv2.VideoCapture(0)\n",
    "\n",
    "# Load the Haar cascade file for number plate detection\n",
    "harcascade = 'haarcascade_russian_plate_number.xml'\n",
    "plate_cascade = cv2.CascadeClassifier(cv2.data.haarcascades + harcascade)\n",
    "\n",
    "# Minimum area for the number plate to be considered\n",
    "min_area = 500\n",
    "count = 0\n",
    "\n",
    "# Directory to save images\n",
    "image_directory = './scanned_images/'\n",
    "if not os.path.exists(image_directory):\n",
    "    os.makedirs(image_directory)\n",
    "\n",
    "while True:\n",
    "    success, img = cam.read()\n",
    "    \n",
    "    if not success:\n",
    "        print(\"Failed to capture image\")\n",
    "        break\n",
    "    \n",
    "    img_gray = cv2.cvtColor(img, cv2.COLOR_BGR2GRAY)\n",
    "    \n",
    "    plates = plate_cascade.detectMultiScale(img_gray, 1.1, 4)\n",
    "    \n",
    "    for (x, y, w, h) in plates:\n",
    "        area = w * h\n",
    "        \n",
    "        if area > min_area:\n",
    "            cv2.rectangle(img, (x, y), (x + w, y + h), (0, 255, 0), 2)\n",
    "            cv2.putText(img, \"Number Plate\", (x, y - 5), cv2.FONT_HERSHEY_COMPLEX_SMALL, 1, (255, 0, 255), 2)\n",
    "            \n",
    "            img_roi = img[y: y+h, x:x+w]\n",
    "            cv2.imshow(\"ROI\", img_roi)\n",
    "            \n",
    "    cv2.imshow(\"Result\", img)\n",
    "    \n",
    "    if cv2.waitKey(1) & 0xFF == ord('s'):\n",
    "        image_path = os.path.join(image_directory, \"scanned_image\" + str(count) + \".jpg\")\n",
    "        cv2.imwrite(image_path, img_roi)\n",
    "        cv2.rectangle(img, (0, 200), (640, 300), (255, 0, 0), cv2.FILLED)\n",
    "        cv2.putText(img, \"Number Plate Saved\", (150, 265), cv2.FONT_HERSHEY_COMPLEX_SMALL, 2, (0, 0, 255), 2)\n",
    "        cv2.imshow(\"Results\", img)\n",
    "        cv2.waitKey(500)\n",
    "        count += 1\n",
    "        \n",
    "    if cv2.waitKey(1) & 0xFF == ord('q'):\n",
    "        break\n",
    "\n",
    "# Release the camera and close windows\n",
    "cam.release()\n",
    "cv2.destroyAllWindows()\n",
    "\n",
    "# Initialize EasyOCR reader\n",
    "reader = easyocr.Reader(['en'])\n",
    "\n",
    "# DataFrame to store the results\n",
    "results = pd.DataFrame(columns=[\"Image\", \"Number Plate\"])\n",
    "\n",
    "# Initialize an empty list to store DataFrames\n",
    "dfs_to_concat = []\n",
    "\n",
    "# Iterate over saved images\n",
    "for file in os.listdir(image_directory):\n",
    "    if file.startswith('scanned_image') and file.endswith('.jpg'):\n",
    "        # Load the image\n",
    "        img_path = os.path.join(image_directory, file)\n",
    "        img = cv2.imread(img_path)\n",
    "        \n",
    "        # Perform OCR on the image\n",
    "        result = reader.readtext(img)\n",
    "        plate_number = \"\"\n",
    "        if result:\n",
    "            plate_number = result[0][-2]\n",
    "            print(f\"Detected Number Plate for {file}: {plate_number}\")\n",
    "            \n",
    "            # Create a DataFrame representing the new row\n",
    "            new_row = pd.DataFrame({\"Image\": [file], \"Number Plate\": [plate_number]})\n",
    "            \n",
    "            # Append the new DataFrame to the list\n",
    "            dfs_to_concat.append(new_row)\n",
    "\n",
    "# Concatenate all DataFrames in the list\n",
    "results = pd.concat(dfs_to_concat, ignore_index=True)\n",
    "\n",
    "# Save the results to an Excel file\n",
    "results.to_excel(\"number_plate_results.xlsx\", index=False)"
   ]
  },
  {
   "cell_type": "code",
   "execution_count": null,
   "id": "61caedb1",
   "metadata": {},
   "outputs": [],
   "source": []
  }
 ],
 "metadata": {
  "kernelspec": {
   "display_name": "Python 3 (ipykernel)",
   "language": "python",
   "name": "python3"
  },
  "language_info": {
   "codemirror_mode": {
    "name": "ipython",
    "version": 3
   },
   "file_extension": ".py",
   "mimetype": "text/x-python",
   "name": "python",
   "nbconvert_exporter": "python",
   "pygments_lexer": "ipython3",
   "version": "3.9.12"
  }
 },
 "nbformat": 4,
 "nbformat_minor": 5
}
